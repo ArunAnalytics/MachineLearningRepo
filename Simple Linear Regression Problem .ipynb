{
 "cells": [
  {
   "cell_type": "code",
   "execution_count": 1,
   "id": "8141d90d",
   "metadata": {},
   "outputs": [],
   "source": [
    "# import basis package\n",
    "import os\n",
    "import numpy as np\n",
    "import pandas as pd\n",
    "import matplotlib.pyplot as plt\n",
    "import seaborn as sns"
   ]
  },
  {
   "cell_type": "code",
   "execution_count": 2,
   "id": "b5de4c04",
   "metadata": {},
   "outputs": [
    {
     "data": {
      "text/html": [
       "<div>\n",
       "<style scoped>\n",
       "    .dataframe tbody tr th:only-of-type {\n",
       "        vertical-align: middle;\n",
       "    }\n",
       "\n",
       "    .dataframe tbody tr th {\n",
       "        vertical-align: top;\n",
       "    }\n",
       "\n",
       "    .dataframe thead th {\n",
       "        text-align: right;\n",
       "    }\n",
       "</style>\n",
       "<table border=\"1\" class=\"dataframe\">\n",
       "  <thead>\n",
       "    <tr style=\"text-align: right;\">\n",
       "      <th></th>\n",
       "      <th>cgpa</th>\n",
       "      <th>package</th>\n",
       "    </tr>\n",
       "  </thead>\n",
       "  <tbody>\n",
       "    <tr>\n",
       "      <th>0</th>\n",
       "      <td>6.89</td>\n",
       "      <td>3.26</td>\n",
       "    </tr>\n",
       "    <tr>\n",
       "      <th>1</th>\n",
       "      <td>5.12</td>\n",
       "      <td>1.98</td>\n",
       "    </tr>\n",
       "    <tr>\n",
       "      <th>2</th>\n",
       "      <td>7.82</td>\n",
       "      <td>3.25</td>\n",
       "    </tr>\n",
       "    <tr>\n",
       "      <th>3</th>\n",
       "      <td>7.42</td>\n",
       "      <td>3.67</td>\n",
       "    </tr>\n",
       "    <tr>\n",
       "      <th>4</th>\n",
       "      <td>6.94</td>\n",
       "      <td>3.57</td>\n",
       "    </tr>\n",
       "  </tbody>\n",
       "</table>\n",
       "</div>"
      ],
      "text/plain": [
       "   cgpa  package\n",
       "0  6.89     3.26\n",
       "1  5.12     1.98\n",
       "2  7.82     3.25\n",
       "3  7.42     3.67\n",
       "4  6.94     3.57"
      ]
     },
     "execution_count": 2,
     "metadata": {},
     "output_type": "execute_result"
    }
   ],
   "source": [
    "dataset = pd.read_csv('placement.csv')\n",
    "dataset.head()"
   ]
  },
  {
   "cell_type": "code",
   "execution_count": 3,
   "id": "c0c880dd",
   "metadata": {},
   "outputs": [
    {
     "data": {
      "image/png": "[encoded data removed]",
      "text/plain": [
       "<Figure size 640x480 with 1 Axes>"
      ]
     },
     "metadata": {},
     "output_type": "display_data"
    }
   ],
   "source": [
    "plt.scatter(dataset['cgpa'], dataset['package'])\n",
    "plt.xlabel(\"CGPA Score\")\n",
    "plt.ylabel(\"Package in LPA\")\n",
    "plt.show()"
   ]
  },
  {
   "cell_type": "code",
   "execution_count": 4,
   "id": "36990f15",
   "metadata": {},
   "outputs": [
    {
     "data": {
      "text/plain": [
       "cgpa       0\n",
       "package    0\n",
       "dtype: int64"
      ]
     },
     "execution_count": 4,
     "metadata": {},
     "output_type": "execute_result"
    }
   ],
   "source": [
    "dataset.isnull().sum()"
   ]
  },
  {
   "cell_type": "code",
   "execution_count": 5,
   "id": "aa4b4946",
   "metadata": {},
   "outputs": [
    {
     "data": {
      "text/plain": [
       "count    200.000000\n",
       "mean       6.990500\n",
       "std        1.069409\n",
       "min        4.260000\n",
       "25%        6.190000\n",
       "50%        6.965000\n",
       "75%        7.737500\n",
       "max        9.580000\n",
       "Name: cgpa, dtype: float64"
      ]
     },
     "execution_count": 5,
     "metadata": {},
     "output_type": "execute_result"
    }
   ],
   "source": [
    "dataset['cgpa'].describe()"
   ]
  },
  {
   "cell_type": "code",
   "execution_count": 6,
   "id": "74fb48cd",
   "metadata": {},
   "outputs": [],
   "source": [
    "# Split the data into independent and dependent variable\n",
    "x = dataset.iloc[:,0:1]\n",
    "y = dataset.iloc[:,1]"
   ]
  },
  {
   "cell_type": "code",
   "execution_count": 7,
   "id": "0380d9cd",
   "metadata": {},
   "outputs": [
    {
     "data": {
      "text/html": [
       "<div>\n",
       "<style scoped>\n",
       "    .dataframe tbody tr th:only-of-type {\n",
       "        vertical-align: middle;\n",
       "    }\n",
       "\n",
       "    .dataframe tbody tr th {\n",
       "        vertical-align: top;\n",
       "    }\n",
       "\n",
       "    .dataframe thead th {\n",
       "        text-align: right;\n",
       "    }\n",
       "</style>\n",
       "<table border=\"1\" class=\"dataframe\">\n",
       "  <thead>\n",
       "    <tr style=\"text-align: right;\">\n",
       "      <th></th>\n",
       "      <th>cgpa</th>\n",
       "    </tr>\n",
       "  </thead>\n",
       "  <tbody>\n",
       "    <tr>\n",
       "      <th>0</th>\n",
       "      <td>6.89</td>\n",
       "    </tr>\n",
       "    <tr>\n",
       "      <th>1</th>\n",
       "      <td>5.12</td>\n",
       "    </tr>\n",
       "    <tr>\n",
       "      <th>2</th>\n",
       "      <td>7.82</td>\n",
       "    </tr>\n",
       "    <tr>\n",
       "      <th>3</th>\n",
       "      <td>7.42</td>\n",
       "    </tr>\n",
       "    <tr>\n",
       "      <th>4</th>\n",
       "      <td>6.94</td>\n",
       "    </tr>\n",
       "  </tbody>\n",
       "</table>\n",
       "</div>"
      ],
      "text/plain": [
       "   cgpa\n",
       "0  6.89\n",
       "1  5.12\n",
       "2  7.82\n",
       "3  7.42\n",
       "4  6.94"
      ]
     },
     "execution_count": 7,
     "metadata": {},
     "output_type": "execute_result"
    }
   ],
   "source": [
    "x.head()"
   ]
  },
  {
   "cell_type": "code",
   "execution_count": 8,
   "id": "0915158e",
   "metadata": {},
   "outputs": [
    {
     "data": {
      "text/plain": [
       "0    3.26\n",
       "1    1.98\n",
       "2    3.25\n",
       "3    3.67\n",
       "4    3.57\n",
       "Name: package, dtype: float64"
      ]
     },
     "execution_count": 8,
     "metadata": {},
     "output_type": "execute_result"
    }
   ],
   "source": [
    "y.head()"
   ]
  },
  {
   "cell_type": "markdown",
   "id": "39781cf8",
   "metadata": {},
   "source": [
    "##### Split the data into training and testing for building linear regression model and for prediction with test data"
   ]
  },
  {
   "cell_type": "code",
   "execution_count": 18,
   "id": "cfdc2dab",
   "metadata": {},
   "outputs": [],
   "source": [
    "from sklearn.model_selection import train_test_split\n",
    "x_train, x_test, y_train, y_test = train_test_split(x, y, test_size=0.2,random_state=101)"
   ]
  },
  {
   "cell_type": "markdown",
   "id": "434c0fe8",
   "metadata": {},
   "source": [
    "# Building Simple Linear Regression Model"
   ]
  },
  {
   "cell_type": "code",
   "execution_count": 21,
   "id": "57e97a35",
   "metadata": {},
   "outputs": [],
   "source": [
    "from sklearn.linear_model import LinearRegression"
   ]
  },
  {
   "cell_type": "code",
   "execution_count": 22,
   "id": "87957784",
   "metadata": {},
   "outputs": [
    {
     "data": {
      "text/plain": [
       "LinearRegression()"
      ]
     },
     "execution_count": 22,
     "metadata": {},
     "output_type": "execute_result"
    }
   ],
   "source": [
    "linear_model = LinearRegression()\n",
    "linear_model.fit(x_train, y_train)"
   ]
  },
  {
   "cell_type": "code",
   "execution_count": 23,
   "id": "3f70bc1c",
   "metadata": {},
   "outputs": [
    {
     "data": {
      "text/plain": [
       "-0.9923811968374028"
      ]
     },
     "execution_count": 23,
     "metadata": {},
     "output_type": "execute_result"
    }
   ],
   "source": [
    "linear_model.intercept_"
   ]
  },
  {
   "cell_type": "code",
   "execution_count": 25,
   "id": "7b73f950",
   "metadata": {},
   "outputs": [
    {
     "data": {
      "text/plain": [
       "array([0.56878545])"
      ]
     },
     "execution_count": 25,
     "metadata": {},
     "output_type": "execute_result"
    }
   ],
   "source": [
    "linear_model.coef_"
   ]
  },
  {
   "cell_type": "code",
   "execution_count": null,
   "id": "1a1e14e7",
   "metadata": {},
   "outputs": [],
   "source": [
    "# y_pred = intercept + slope * cgpa\n",
    "# y_pred = -0.9923811968374028 + 0.56878545*cgpa"
   ]
  },
  {
   "cell_type": "markdown",
   "id": "e383c6ec",
   "metadata": {},
   "source": [
    "# predict the model with test data"
   ]
  },
  {
   "cell_type": "code",
   "execution_count": 26,
   "id": "2f13a721",
   "metadata": {},
   "outputs": [],
   "source": [
    "y_pred = linear_model.predict(x_test)"
   ]
  },
  {
   "cell_type": "code",
   "execution_count": 27,
   "id": "ebaf3ab3",
   "metadata": {},
   "outputs": [
    {
     "data": {
      "text/plain": [
       "array([2.36345297, 3.42708176, 3.61478096, 2.6592214 , 1.91411246,\n",
       "       3.21094329, 2.909487  , 2.90379914, 2.32932584, 2.94930198,\n",
       "       3.31332467, 3.88779797, 3.17112831, 3.6716595 , 2.85260845,\n",
       "       3.71716234, 3.14837689, 3.18250402, 2.54546431, 3.23369471,\n",
       "       2.94930198, 3.52377529, 3.01186838, 2.12456308, 3.33038823,\n",
       "       4.45658343, 2.39189224, 3.15406474, 3.06874692, 3.45552103,\n",
       "       4.09256074, 2.44877078, 3.05168336, 2.49996147, 2.92655056,\n",
       "       2.96636554, 3.17681616, 2.35776511, 2.39189224, 2.52840075])"
      ]
     },
     "execution_count": 27,
     "metadata": {},
     "output_type": "execute_result"
    }
   ],
   "source": [
    "y_pred"
   ]
  },
  {
   "cell_type": "code",
   "execution_count": 28,
   "id": "02acdcc6",
   "metadata": {},
   "outputs": [
    {
     "data": {
      "text/plain": [
       "37     2.43\n",
       "109    4.06\n",
       "31     3.89\n",
       "89     2.72\n",
       "66     1.63\n",
       "119    2.65\n",
       "54     3.09\n",
       "74     3.44\n",
       "145    2.18\n",
       "142    3.04\n",
       "148    3.40\n",
       "112    4.10\n",
       "174    2.99\n",
       "55     3.39\n",
       "141    3.18\n",
       "149    3.67\n",
       "25     3.65\n",
       "34     3.42\n",
       "170    2.87\n",
       "39     3.33\n",
       "172    2.51\n",
       "153    3.99\n",
       "175    3.50\n",
       "61     1.61\n",
       "65     3.81\n",
       "50     4.43\n",
       "42     2.54\n",
       "129    3.12\n",
       "179    3.03\n",
       "2      3.25\n",
       "12     3.65\n",
       "133    2.58\n",
       "90     2.66\n",
       "22     2.30\n",
       "41     2.70\n",
       "32     3.08\n",
       "125    3.16\n",
       "196    2.57\n",
       "158    3.04\n",
       "180    2.72\n",
       "Name: package, dtype: float64"
      ]
     },
     "execution_count": 28,
     "metadata": {},
     "output_type": "execute_result"
    }
   ],
   "source": [
    "y_test"
   ]
  },
  {
   "cell_type": "markdown",
   "id": "f5add074",
   "metadata": {},
   "source": [
    "# Validate the model basis actual and predicted"
   ]
  },
  {
   "cell_type": "code",
   "execution_count": 29,
   "id": "964a7368",
   "metadata": {},
   "outputs": [],
   "source": [
    "from sklearn.metrics import r2_score"
   ]
  },
  {
   "cell_type": "code",
   "execution_count": 30,
   "id": "b3bd1a25",
   "metadata": {},
   "outputs": [
    {
     "data": {
      "text/plain": [
       "0.7368288711522916"
      ]
     },
     "execution_count": 30,
     "metadata": {},
     "output_type": "execute_result"
    }
   ],
   "source": [
    "r2_score(y_test, y_pred)"
   ]
  },
  {
   "cell_type": "code",
   "execution_count": 32,
   "id": "3414ba9f",
   "metadata": {},
   "outputs": [
    {
     "data": {
      "image/png": "[encoded data removed]",
      "text/plain": [
       "<Figure size 640x480 with 1 Axes>"
      ]
     },
     "metadata": {},
     "output_type": "display_data"
    }
   ],
   "source": [
    "plt.scatter(dataset['cgpa'], dataset['package'])\n",
    "plt.plot(x_train, linear_model.predict(x_train), color='red')\n",
    "plt.xlabel(\"CGPA Score\")\n",
    "plt.ylabel(\"Package in LPA\")\n",
    "plt.show()"
   ]
  },
  {
   "cell_type": "code",
   "execution_count": 33,
   "id": "87195c91",
   "metadata": {},
   "outputs": [],
   "source": [
    "# cgpa score = 8.5 and 3.2, pls confirm package ?\n",
    "\n",
    "y_pred_8_5 = -0.9923811968374028 + 0.56878545*8.5\n",
    "y_pred_3_2 = -0.9923811968374028 + 0.56878545*3.2"
   ]
  },
  {
   "cell_type": "code",
   "execution_count": 34,
   "id": "1cb089e0",
   "metadata": {},
   "outputs": [
    {
     "data": {
      "text/plain": [
       "3.8422951281625974"
      ]
     },
     "execution_count": 34,
     "metadata": {},
     "output_type": "execute_result"
    }
   ],
   "source": [
    "y_pred_8_5"
   ]
  },
  {
   "cell_type": "code",
   "execution_count": 35,
   "id": "5ef4c8ed",
   "metadata": {},
   "outputs": [
    {
     "data": {
      "text/plain": [
       "0.8277322431625973"
      ]
     },
     "execution_count": 35,
     "metadata": {},
     "output_type": "execute_result"
    }
   ],
   "source": [
    "y_pred_3_2"
   ]
  },
  {
   "cell_type": "code",
   "execution_count": 36,
   "id": "5776a0df",
   "metadata": {},
   "outputs": [],
   "source": [
    "new_salary = pd.read_excel('new_salary.xlsx')"
   ]
  },
  {
   "cell_type": "code",
   "execution_count": 37,
   "id": "6891732c",
   "metadata": {},
   "outputs": [],
   "source": [
    "y_pred_new_salary = linear_model.predict(new_salary)"
   ]
  },
  {
   "cell_type": "code",
   "execution_count": 38,
   "id": "f83080f7",
   "metadata": {},
   "outputs": [
    {
     "data": {
      "text/plain": [
       "array([4.12668786, 2.42033151, 4.12668786, 2.42033151, 3.55790241,\n",
       "       1.85154606, 2.98911696, 3.55790241, 3.55790241, 4.12668786])"
      ]
     },
     "execution_count": 38,
     "metadata": {},
     "output_type": "execute_result"
    }
   ],
   "source": [
    "y_pred_new_salary"
   ]
  },
  {
   "cell_type": "code",
   "execution_count": null,
   "id": "20dde611",
   "metadata": {},
   "outputs": [],
   "source": []
  }
 ],
 "metadata": {
  "kernelspec": {
   "display_name": "Python 3 (ipykernel)",
   "language": "python",
   "name": "python3"
  },
  "language_info": {
   "codemirror_mode": {
    "name": "ipython",
    "version": 3
   },
   "file_extension": ".py",
   "mimetype": "text/x-python",
   "name": "python",
   "nbconvert_exporter": "python",
   "pygments_lexer": "ipython3",
   "version": "3.9.13"
  }
 },
 "nbformat": 4,
 "nbformat_minor": 5
}
